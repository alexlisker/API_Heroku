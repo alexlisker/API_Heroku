{
  "nbformat": 4,
  "nbformat_minor": 0,
  "metadata": {
    "colab": {
      "provenance": [],
      "authorship_tag": "ABX9TyNlvJC18RsKi27jZGoVcmbX",
      "include_colab_link": true
    },
    "kernelspec": {
      "name": "python3",
      "display_name": "Python 3"
    },
    "language_info": {
      "name": "python"
    }
  },
  "cells": [
    {
      "cell_type": "markdown",
      "metadata": {
        "id": "view-in-github",
        "colab_type": "text"
      },
      "source": [
        "<a href=\"https://colab.research.google.com/github/alexlisker/API_Heroku/blob/master/Talleres_en_clase.ipynb\" target=\"_parent\"><img src=\"https://colab.research.google.com/assets/colab-badge.svg\" alt=\"Open In Colab\"/></a>"
      ]
    },
    {
      "cell_type": "markdown",
      "source": [
        "#CURSO IA ETB\n",
        "## Marzo 2025\n",
        "Curso concurso\n",
        "\n",
        "Talleres en clase\n",
        "\n",
        "\n",
        "...y Vamos a darle al phyton..."
      ],
      "metadata": {
        "id": "a8I3Zxs8qI2b"
      }
    },
    {
      "cell_type": "code",
      "execution_count": null,
      "metadata": {
        "colab": {
          "base_uri": "https://localhost:8080/"
        },
        "id": "6zq1puc7qCYa",
        "outputId": "f73e789c-4c36-426b-cb40-b9e4603c07ac"
      },
      "outputs": [
        {
          "output_type": "stream",
          "name": "stdout",
          "text": [
            "EL SIMPRE TRADICIONAL Y BIENVENIDO  -HOLA MUNDO-\n",
            ";)\n"
          ]
        }
      ],
      "source": [
        "print(\"EL SIMPRE TRADICIONAL Y BIENVENIDO  -HOLA MUNDO-\")\n",
        "print(\";)\")"
      ]
    },
    {
      "cell_type": "code",
      "source": [],
      "metadata": {
        "id": "674sQHTOqIC5"
      },
      "execution_count": null,
      "outputs": []
    },
    {
      "cell_type": "markdown",
      "source": [],
      "metadata": {
        "id": "mqVWLWFHqq-B"
      }
    }
  ]
}